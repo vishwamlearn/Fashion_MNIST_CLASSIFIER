{
  "nbformat": 4,
  "nbformat_minor": 0,
  "metadata": {
    "colab": {
      "provenance": [],
      "gpuType": "T4"
    },
    "kernelspec": {
      "name": "python3",
      "display_name": "Python 3"
    },
    "language_info": {
      "name": "python"
    },
    "accelerator": "GPU"
  },
  "cells": [
    {
      "cell_type": "code",
      "execution_count": 1,
      "metadata": {
        "id": "-7iYcEy9RJTd"
      },
      "outputs": [],
      "source": [
        "import tensorflow as tf"
      ]
    },
    {
      "cell_type": "code",
      "source": [
        "import numpy as np\n",
        "import matplotlib.pyplot as plt\n"
      ],
      "metadata": {
        "id": "uKXD7Zs9VUGY"
      },
      "execution_count": 2,
      "outputs": []
    },
    {
      "cell_type": "code",
      "source": [
        "fashion_mnist = tf.keras.datasets.fashion_mnist\n",
        "(x_train, y_train), (x_test, y_test) = fashion_mnist.load_data()\n",
        "x_train, x_test = x_train / 255.0, x_test / 255.0"
      ],
      "metadata": {
        "colab": {
          "base_uri": "https://localhost:8080/"
        },
        "id": "oXbVytJuWpr4",
        "outputId": "2fca0bd8-7bbe-4bca-8a1c-cd3fd9a19bcf"
      },
      "execution_count": 3,
      "outputs": [
        {
          "output_type": "stream",
          "name": "stdout",
          "text": [
            "Downloading data from https://storage.googleapis.com/tensorflow/tf-keras-datasets/train-labels-idx1-ubyte.gz\n",
            "29515/29515 [==============================] - 0s 0us/step\n",
            "Downloading data from https://storage.googleapis.com/tensorflow/tf-keras-datasets/train-images-idx3-ubyte.gz\n",
            "26421880/26421880 [==============================] - 0s 0us/step\n",
            "Downloading data from https://storage.googleapis.com/tensorflow/tf-keras-datasets/t10k-labels-idx1-ubyte.gz\n",
            "5148/5148 [==============================] - 0s 0us/step\n",
            "Downloading data from https://storage.googleapis.com/tensorflow/tf-keras-datasets/t10k-images-idx3-ubyte.gz\n",
            "4422102/4422102 [==============================] - 0s 0us/step\n"
          ]
        }
      ]
    },
    {
      "cell_type": "code",
      "source": [
        "print(x_train.shape)\n",
        "print(x_test.shape)"
      ],
      "metadata": {
        "colab": {
          "base_uri": "https://localhost:8080/"
        },
        "id": "jUvYS5UGWtX3",
        "outputId": "30f7a177-4d91-48dc-ec0d-808388a55e1b"
      },
      "execution_count": 4,
      "outputs": [
        {
          "output_type": "stream",
          "name": "stdout",
          "text": [
            "(60000, 28, 28)\n",
            "(10000, 28, 28)\n"
          ]
        }
      ]
    },
    {
      "cell_type": "code",
      "source": [
        "#Since to input in 2D,But convolution expects height x width x color so expanding dimensions\n",
        "x_train=np.expand_dims(x_train,axis=-1)\n",
        "x_test = np.expand_dims(x_test, -1)"
      ],
      "metadata": {
        "id": "VzGAXaxuXgoG"
      },
      "execution_count": 5,
      "outputs": []
    },
    {
      "cell_type": "code",
      "source": [
        "# Getting number of classes\n",
        "K = len(set(y_train))\n",
        "print(\"number of classes:\", K)"
      ],
      "metadata": {
        "colab": {
          "base_uri": "https://localhost:8080/"
        },
        "id": "zUTqD6soX6xL",
        "outputId": "f3ba9dd5-7df4-4e17-c872-d8817c3719a8"
      },
      "execution_count": 6,
      "outputs": [
        {
          "output_type": "stream",
          "name": "stdout",
          "text": [
            "number of classes: 10\n"
          ]
        }
      ]
    },
    {
      "cell_type": "code",
      "source": [
        "x_train.shape[1:]"
      ],
      "metadata": {
        "colab": {
          "base_uri": "https://localhost:8080/"
        },
        "id": "6fe0zdSiZHkw",
        "outputId": "d31424b4-ff64-4160-b1f6-794488dc13c6"
      },
      "execution_count": 7,
      "outputs": [
        {
          "output_type": "execute_result",
          "data": {
            "text/plain": [
              "(28, 28, 1)"
            ]
          },
          "metadata": {},
          "execution_count": 7
        }
      ]
    },
    {
      "cell_type": "code",
      "source": [
        "#Creating Model\n",
        "from tensorflow.keras.layers import Dense,Conv2D,Flatten,Dropout,Input\n",
        "from tensorflow.keras.models import Model\n",
        "\n",
        "i=Input(shape=x_train.shape[1:])\n",
        "x=Conv2D(32,(3,3),activation='relu')(i)\n",
        "x=Conv2D(64,(3,3),activation='relu')(x)\n",
        "x=Conv2D(128,(3,3),activation='relu')(x)\n",
        "x=Conv2D(256,(3,3),activation='relu')(x)\n",
        "x=Flatten()(x)\n",
        "x=Dense(512,activation='relu')(x)\n",
        "x=Dropout(0.2)(x)\n",
        "x=Dense(256,activation='relu')(x)\n",
        "x=Dropout(0.2)(x)\n",
        "x=Dense(10,activation='softmax')(x)\n",
        "model= Model(inputs=i,outputs=x)\n"
      ],
      "metadata": {
        "id": "Q5kTXimDYLnX"
      },
      "execution_count": 8,
      "outputs": []
    },
    {
      "cell_type": "code",
      "source": [
        "model.compile(optimizer='adam',loss='sparse_categorical_crossentropy',metrics=['accuracy'])\n",
        "history=model.fit(x_train, y_train, validation_data=(x_test, y_test), epochs=20)"
      ],
      "metadata": {
        "colab": {
          "base_uri": "https://localhost:8080/"
        },
        "id": "HKgbqKlDcDrf",
        "outputId": "4153376e-dcf3-4512-ab04-502d9782e817"
      },
      "execution_count": 9,
      "outputs": [
        {
          "output_type": "stream",
          "name": "stdout",
          "text": [
            "Epoch 1/20\n",
            "1875/1875 [==============================] - 53s 24ms/step - loss: 0.4170 - accuracy: 0.8493 - val_loss: 0.3089 - val_accuracy: 0.8882\n",
            "Epoch 2/20\n",
            "1875/1875 [==============================] - 45s 24ms/step - loss: 0.2630 - accuracy: 0.9035 - val_loss: 0.2676 - val_accuracy: 0.9026\n",
            "Epoch 3/20\n",
            "1875/1875 [==============================] - 43s 23ms/step - loss: 0.2031 - accuracy: 0.9259 - val_loss: 0.2408 - val_accuracy: 0.9158\n",
            "Epoch 4/20\n",
            "1875/1875 [==============================] - 43s 23ms/step - loss: 0.1508 - accuracy: 0.9442 - val_loss: 0.2659 - val_accuracy: 0.9122\n",
            "Epoch 5/20\n",
            "1875/1875 [==============================] - 45s 24ms/step - loss: 0.1078 - accuracy: 0.9606 - val_loss: 0.2937 - val_accuracy: 0.9147\n",
            "Epoch 6/20\n",
            "1875/1875 [==============================] - 43s 23ms/step - loss: 0.0807 - accuracy: 0.9713 - val_loss: 0.3340 - val_accuracy: 0.9148\n",
            "Epoch 7/20\n",
            "1875/1875 [==============================] - 43s 23ms/step - loss: 0.0569 - accuracy: 0.9802 - val_loss: 0.3708 - val_accuracy: 0.9119\n",
            "Epoch 8/20\n",
            "1875/1875 [==============================] - 43s 23ms/step - loss: 0.0496 - accuracy: 0.9830 - val_loss: 0.4346 - val_accuracy: 0.9128\n",
            "Epoch 9/20\n",
            "1875/1875 [==============================] - 45s 24ms/step - loss: 0.0440 - accuracy: 0.9856 - val_loss: 0.3880 - val_accuracy: 0.9134\n",
            "Epoch 10/20\n",
            "1875/1875 [==============================] - 43s 23ms/step - loss: 0.0381 - accuracy: 0.9875 - val_loss: 0.4567 - val_accuracy: 0.9132\n",
            "Epoch 11/20\n",
            "1875/1875 [==============================] - 43s 23ms/step - loss: 0.0306 - accuracy: 0.9900 - val_loss: 0.4633 - val_accuracy: 0.9154\n",
            "Epoch 12/20\n",
            "1875/1875 [==============================] - 43s 23ms/step - loss: 0.0315 - accuracy: 0.9904 - val_loss: 0.5424 - val_accuracy: 0.9049\n",
            "Epoch 13/20\n",
            "1875/1875 [==============================] - 43s 23ms/step - loss: 0.0248 - accuracy: 0.9919 - val_loss: 0.5646 - val_accuracy: 0.9157\n",
            "Epoch 14/20\n",
            "1875/1875 [==============================] - 43s 23ms/step - loss: 0.0288 - accuracy: 0.9912 - val_loss: 0.5792 - val_accuracy: 0.9138\n",
            "Epoch 15/20\n",
            "1875/1875 [==============================] - 44s 23ms/step - loss: 0.0238 - accuracy: 0.9928 - val_loss: 0.7260 - val_accuracy: 0.9109\n",
            "Epoch 16/20\n",
            "1875/1875 [==============================] - 43s 23ms/step - loss: 0.0239 - accuracy: 0.9929 - val_loss: 0.6691 - val_accuracy: 0.9122\n",
            "Epoch 17/20\n",
            "1875/1875 [==============================] - 43s 23ms/step - loss: 0.0235 - accuracy: 0.9934 - val_loss: 0.7039 - val_accuracy: 0.9119\n",
            "Epoch 18/20\n",
            "1875/1875 [==============================] - 43s 23ms/step - loss: 0.0268 - accuracy: 0.9928 - val_loss: 0.6465 - val_accuracy: 0.9110\n",
            "Epoch 19/20\n",
            "1875/1875 [==============================] - 45s 24ms/step - loss: 0.0222 - accuracy: 0.9938 - val_loss: 0.7027 - val_accuracy: 0.9158\n",
            "Epoch 20/20\n",
            "1875/1875 [==============================] - 43s 23ms/step - loss: 0.0216 - accuracy: 0.9941 - val_loss: 0.7402 - val_accuracy: 0.9089\n"
          ]
        }
      ]
    },
    {
      "cell_type": "code",
      "source": [
        "import matplotlib.pyplot as plt\n",
        "plt.plot(history.history['loss'], label='loss')\n",
        "plt.plot(history.history['val_loss'], label='val_loss')\n",
        "plt.legend()"
      ],
      "metadata": {
        "colab": {
          "base_uri": "https://localhost:8080/",
          "height": 447
        },
        "id": "9-LcthDMdT2-",
        "outputId": "d530d022-cbf6-4a71-b829-6fbca359e2d9"
      },
      "execution_count": 11,
      "outputs": [
        {
          "output_type": "execute_result",
          "data": {
            "text/plain": [
              "<matplotlib.legend.Legend at 0x79d0e84b4760>"
            ]
          },
          "metadata": {},
          "execution_count": 11
        },
        {
          "output_type": "display_data",
          "data": {
            "text/plain": [
              "<Figure size 640x480 with 1 Axes>"
            ],
            "image/png": "[encoded data removed]"
          },
          "metadata": {}
        }
      ]
    },
    {
      "cell_type": "code",
      "source": [
        "plt.plot(history.history['accuracy'], label='acc')\n",
        "plt.plot(history.history['val_accuracy'], label='val_acc')\n",
        "plt.legend()"
      ],
      "metadata": {
        "colab": {
          "base_uri": "https://localhost:8080/",
          "height": 449
        },
        "id": "dX8sNPkLi8mN",
        "outputId": "751101f4-00ae-4c49-db0f-955ad5d20712"
      },
      "execution_count": 12,
      "outputs": [
        {
          "output_type": "execute_result",
          "data": {
            "text/plain": [
              "<matplotlib.legend.Legend at 0x79d0e811a830>"
            ]
          },
          "metadata": {},
          "execution_count": 12
        },
        {
          "output_type": "display_data",
          "data": {
            "text/plain": [
              "<Figure size 640x480 with 1 Axes>"
            ],
            "image/png": "[encoded data removed]"
          },
          "metadata": {}
        }
      ]
    },
    {
      "cell_type": "code",
      "source": [
        " model.predict(x_test)"
      ],
      "metadata": {
        "colab": {
          "base_uri": "https://localhost:8080/"
        },
        "id": "Ovwe2QAPjZvo",
        "outputId": "589269a9-e32a-4c6f-c61e-ebd61b0d645a"
      },
      "execution_count": 13,
      "outputs": [
        {
          "output_type": "stream",
          "name": "stdout",
          "text": [
            "313/313 [==============================] - 2s 4ms/step\n"
          ]
        },
        {
          "output_type": "execute_result",
          "data": {
            "text/plain": [
              "array([[0.0000000e+00, 0.0000000e+00, 0.0000000e+00, ..., 7.8846915e-36,\n",
              "        0.0000000e+00, 1.0000000e+00],\n",
              "       [7.2002262e-32, 0.0000000e+00, 1.0000000e+00, ..., 0.0000000e+00,\n",
              "        0.0000000e+00, 0.0000000e+00],\n",
              "       [0.0000000e+00, 1.0000000e+00, 0.0000000e+00, ..., 0.0000000e+00,\n",
              "        3.2486348e-36, 0.0000000e+00],\n",
              "       ...,\n",
              "       [0.0000000e+00, 0.0000000e+00, 0.0000000e+00, ..., 0.0000000e+00,\n",
              "        1.0000000e+00, 0.0000000e+00],\n",
              "       [5.3907211e-26, 1.0000000e+00, 8.1971623e-27, ..., 5.4922411e-27,\n",
              "        2.0547488e-23, 4.6632673e-27],\n",
              "       [2.3379803e-18, 3.9267608e-19, 6.3849836e-18, ..., 1.8799016e-12,\n",
              "        3.1828235e-14, 1.3759225e-11]], dtype=float32)"
            ]
          },
          "metadata": {},
          "execution_count": 13
        }
      ]
    },
    {
      "cell_type": "code",
      "source": [
        "predicted=model.predict(x_test).argmax(axis=1)"
      ],
      "metadata": {
        "colab": {
          "base_uri": "https://localhost:8080/"
        },
        "id": "bc2PXOJ-jaT6",
        "outputId": "75ddb364-614e-4ea3-9d41-19606c7eb4f9"
      },
      "execution_count": 15,
      "outputs": [
        {
          "output_type": "stream",
          "name": "stdout",
          "text": [
            "313/313 [==============================] - 1s 4ms/step\n"
          ]
        }
      ]
    },
    {
      "cell_type": "code",
      "source": [
        "print(\"Manually calculated accuracy:\", np.mean(predicted == y_test))"
      ],
      "metadata": {
        "colab": {
          "base_uri": "https://localhost:8080/"
        },
        "id": "Da0tlrgxjyLq",
        "outputId": "39185b9e-eda1-49fd-c7e8-ebc5e3b99a0d"
      },
      "execution_count": 20,
      "outputs": [
        {
          "output_type": "stream",
          "name": "stdout",
          "text": [
            "Manually calculated accuracy: 0.9089\n"
          ]
        }
      ]
    },
    {
      "cell_type": "code",
      "source": [
        "print(\"Evaluate output:\", model.evaluate(x_test, y_test))"
      ],
      "metadata": {
        "colab": {
          "base_uri": "https://localhost:8080/"
        },
        "id": "5zuToen6kFWy",
        "outputId": "9552ba30-b852-49de-8842-e9197c46b077"
      },
      "execution_count": 22,
      "outputs": [
        {
          "output_type": "stream",
          "name": "stdout",
          "text": [
            "313/313 [==============================] - 2s 5ms/step - loss: 0.7402 - accuracy: 0.9089\n",
            "Evaluate output: [0.7402476668357849, 0.9089000225067139]\n"
          ]
        }
      ]
    },
    {
      "cell_type": "code",
      "source": [],
      "metadata": {
        "id": "A86UHUkqkMlu"
      },
      "execution_count": null,
      "outputs": []
    }
  ]
}